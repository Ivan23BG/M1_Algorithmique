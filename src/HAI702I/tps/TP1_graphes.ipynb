{
 "cells": [
  {
   "cell_type": "markdown",
   "metadata": {},
   "source": [
    "\n",
    "# HAI702 - TP 1 - Parcours ALGO - Algèbre linéaire et graphes\n",
    "\n",
    "Les graphes non-orientés sont un concept fondamental en combinatoire. On peut représenter un graphe sous la forme matricielle via sa matrice d'adjacence ou via sa matrice d'incidence (entre autres). Dans ce TP, nous allons explorer ce pont entre l'algèbre et la combinatoire en exprimant des propriétés combinatoires des graphes à partir d'outils d'algèbre linéaire. \n",
    "\n",
    "<div id=\"ch:graphes\"></div>\n",
    "\n",
    "\n",
    "\n",
    "**Concepts abordés.**\n",
    "\n",
    "* Manipulation de tableau de type `array` du package `numpy`\n",
    "\n",
    "* implémentation de quelques fonctions élémentaires de calcul matriciel\n",
    "\n",
    "* Matrice d'adjacence d'un graphe non-orienté\n",
    "\n",
    "* Recherche de chemins et de triangles dans un graphe\n",
    "\n",
    "* Matrice d'incidence d'un graphe non-orienté\n",
    "\n",
    "* Analyse du rang des matrices d'incidence\n",
    "\n",
    "\n",
    "\n",
    "\n",
    "\n",
    "\n",
    "<!-- --- begin exercise --- -->\n",
    "\n",
    "# Exercice 1: Les matrices avec Numpy\n",
    "\n",
    "Dans ce TP, nous aurons besoin de la librairie `numpy` :\n"
   ]
  },
  {
   "cell_type": "code",
   "execution_count": 7,
   "metadata": {},
   "outputs": [],
   "source": [
    "import numpy as np # ne pas modifier cette ligne. \n",
    "# on importe la librairie numpy. Pour appeler une fonction de cette librairie, il faut la préceder par `np.`"
   ]
  },
  {
   "cell_type": "markdown",
   "metadata": {},
   "source": [
    "Une matrice est un objet de type `array` du package `numpy`. Par exemple, pour définir la matrice $M$ suivante\n",
    "\n",
    "\\begin{pmatrix}\n",
    "1 & 2 & 3 & 0 & -1\\\\\n",
    "0 & -2 & 6 & 0 & 5\\\\\n",
    "-1 & 6 & 0 & -2 & 4\\\\\n",
    "\\end{pmatrix}\n",
    "\n",
    "on écrira\n",
    "\n"
   ]
  },
  {
   "cell_type": "code",
   "execution_count": 6,
   "metadata": {},
   "outputs": [
    {
     "name": "stdout",
     "output_type": "stream",
     "text": [
      "[[ 1  2  3  0 -1]\n",
      " [ 0 -2  6  0  5]\n",
      " [-1  6  0 -2  4]]\n"
     ]
    }
   ],
   "source": [
    "M = np.array([[1,2,3,0,-1],\n",
    "              [0,-2,6,0,5],\n",
    "              [-1,6,0,-2,4]])\n",
    "print(M)"
   ]
  },
  {
   "cell_type": "markdown",
   "metadata": {},
   "source": [
    "L'argument de la function `array` est ici de type `list`. Pour créer une matrice contenant des entiers, l'argument doit être une liste de listes d'entiers. Pour plus de détails concernant la fonction `array`, on pourra consulter la documentation <a href=\"https://numpy.org/doc/stable/reference/generated/numpy.array.html\">ici</a>. On accède par exemple au dimensions de la matrice grace à l'attribut `shape`."
   ]
  },
  {
   "cell_type": "code",
   "execution_count": 4,
   "metadata": {},
   "outputs": [
    {
     "data": {
      "text/plain": [
       "(3, 5)"
      ]
     },
     "execution_count": 4,
     "metadata": {},
     "output_type": "execute_result"
    }
   ],
   "source": [
    "M.shape"
   ]
  },
  {
   "cell_type": "markdown",
   "metadata": {},
   "source": [
    "Pour accéder à l'élément situé sur la $i$-ème ligne et à la colonne $j$-ème colonne, on écrit `M[i-1][j-1]`. On peut également modifier la valeur de cet élément. Par exemple, "
   ]
  },
  {
   "cell_type": "code",
   "execution_count": 11,
   "metadata": {},
   "outputs": [
    {
     "name": "stdout",
     "output_type": "stream",
     "text": [
      "5\n",
      "[[  1   2   3   0  -1]\n",
      " [  0  -2   6   0 -42]\n",
      " [ -1   6   0  -2   4]]\n"
     ]
    }
   ],
   "source": [
    "print(M[1][4])\n",
    "M[1][4]=-42\n",
    "print(M)"
   ]
  },
  {
   "cell_type": "markdown",
   "metadata": {},
   "source": [
    "On peut créer une matrice de dimension $n\\times m$ dont tous les éléments sont $0$ en appelant la fonction `np.zeros((n,m))` :"
   ]
  },
  {
   "cell_type": "code",
   "execution_count": 12,
   "metadata": {},
   "outputs": [
    {
     "name": "stdout",
     "output_type": "stream",
     "text": [
      "[[0. 0. 0.]\n",
      " [0. 0. 0.]]\n"
     ]
    }
   ],
   "source": [
    "print(np.zeros((2,3)))"
   ]
  },
  {
   "cell_type": "markdown",
   "metadata": {},
   "source": [
    "**Attention :** Pour copier une matrice (ou plus généralement un objet de type `array`) il faut utiliser la méthode `copy()`. Consider par exemple les codes suivants. "
   ]
  },
  {
   "cell_type": "code",
   "execution_count": 15,
   "metadata": {},
   "outputs": [
    {
     "name": "stdout",
     "output_type": "stream",
     "text": [
      "[  5 145   0   1]\n"
     ]
    }
   ],
   "source": [
    "# Exemple d'une erreur classique\n",
    "a = np.array([5,3,0,1]) # on crée un tableau a\n",
    "b = a # on pense faire une copie b de a\n",
    "b[1] = 145 # on modifie b\n",
    "print(a) # on peut observer dans la sortie que le tableau a a été également modifié. \n",
    "# A la ligne 3, on a simplement donné un autre étiquette au tableau, \n",
    "# mais le contenu du tableau n'a pas été copié"
   ]
  },
  {
   "cell_type": "code",
   "execution_count": 16,
   "metadata": {},
   "outputs": [
    {
     "name": "stdout",
     "output_type": "stream",
     "text": [
      "[5 3 0 1]\n"
     ]
    }
   ],
   "source": [
    "a = np.array([5,3,0,1]) # on crée un tableau a\n",
    "b = a.copy() # on fait une (vraie) copie de a \n",
    "b[1] = 145 # on modifie b\n",
    "print(a) # on peut observer que cette fois le tableau a n'a pas été modifié. "
   ]
  },
  {
   "cell_type": "markdown",
   "metadata": {},
   "source": [
    "## Fonctions de bases sur les matrices\n",
    "\n",
    "Dans cette partie, on ré-implémente quelques fonctions de la librairie Numpy. \n",
    "\n",
    "**a)** Ecrire une fonction `matrice_id` qui prend un entier $n$ en paramètre et qui renvoie la matrice identité de taille $n\\times n$."
   ]
  },
  {
   "cell_type": "code",
   "execution_count": null,
   "metadata": {},
   "outputs": [],
   "source": []
  },
  {
   "cell_type": "markdown",
   "metadata": {},
   "source": [
    "La fonction `matrice_id` s'appelle `eye` dans Numpy. Voir la <a href=\"https://numpy.org/doc/stable/reference/generated/numpy.eye.html\">documentation</a>.\n",
    "\n",
    "**b)** Ecrire une fonction `transpose` qui prend en entrée une matrice $M$ et renvoie sa transposée $~^tM$."
   ]
  },
  {
   "cell_type": "code",
   "execution_count": null,
   "metadata": {},
   "outputs": [],
   "source": []
  },
  {
   "cell_type": "markdown",
   "metadata": {},
   "source": [
    "La fonction `transpose` s'appelle également `transpose` dans Numpy. Voir la <a href=\"https://numpy.org/doc/stable/reference/generated/numpy.transpose.html\">documentation</a>.\n",
    "\n",
    "**c)** Ecrire une fonction `produit` qui prend en entrée deux matrices $A$ et $B$ et renvoie leur produit. "
   ]
  },
  {
   "cell_type": "code",
   "execution_count": null,
   "metadata": {},
   "outputs": [],
   "source": []
  },
  {
   "cell_type": "markdown",
   "metadata": {},
   "source": [
    "La fonction `produit` s'appelle `dot` dans Numpy. Voir la <a href=\"https://numpy.org/doc/stable/reference/generated/numpy.dot.html\">documentation</a>.\n",
    "\n",
    "\n",
    "**d)** Ecrire une fonction `trace` qui prend en entrée une matrice et renvoie sa trace. "
   ]
  },
  {
   "cell_type": "code",
   "execution_count": null,
   "metadata": {},
   "outputs": [],
   "source": []
  },
  {
   "cell_type": "markdown",
   "metadata": {},
   "source": [
    "La fonction `trace` s'appelle également `trace` dans Numpy. Voir la <a href=\"https://numpy.org/doc/stable/reference/generated/numpy.trace.html\">documentation</a>.\n",
    "\n",
    "Pour connaître davantage de possibilités de Numpy (notamment les méthodes de *slicing* qui sont très pratiques pour la manipulation des tableaux), consulter la <a href=\"https://numpy.org/doc/stable/user/quickstart.html#quickstart-indexing-slicing-and-iterating\">documentation</a>. \n",
    "\n",
    "\n",
    "## Pivot de Gauss et rang\n",
    "\n",
    "Dans cette partie nous allons implémenter l'algorithme du pivot de Gauss. Pour un rappel sur cette méthode, consulter le cours ou <a href=\"https://en.wikipedia.org/wiki/Gaussian_elimination\">wikipédia</a>.\n",
    "<!--\n",
    "**a)** Ecrire une fonction `echange(M,i)` qui prend en entrée un matrice $M$, et un entier $i$ et échange la 1ère ligne de $M$ avec sa ligne d'indice $i$. \n",
    "**b)** Ecrire une fonction `soustrait(M,i,x)` qui à la ligne d'indice $i$ d'une mtrice $M$, soustrait $x$ fois sa première ligne. \n",
    "**c)** Ecrire une fonction `reduit`\n",
    "**a)** Ecrire une fonction `determinant(M)` qui renvoie la valeur du déterminant d'une matrice $M$ carrée, en utilisant la méthode du Pivot de Gauss.  \n",
    "-->\n"
   ]
  },
  {
   "cell_type": "markdown",
   "metadata": {},
   "source": [
    "**e)** écrire une fonction `rang(M)` qui à l'aide de la méthode du pivot de Gauss, calcule le rang de la matrice $M$. \n",
    "\n",
    "**Precision :** On suppose ici que les éléments de la matrice sont de \"petits\" entiers. Les manipulations de \"gros\" entiers avec Python peut poser des problèmes inattendus, notamment avec l'utilisation de la division. Par exemple, observer le code suivant."
   ]
  },
  {
   "cell_type": "code",
   "execution_count": 16,
   "metadata": {},
   "outputs": [
    {
     "data": {
      "text/plain": [
       "False"
      ]
     },
     "execution_count": 16,
     "metadata": {},
     "output_type": "execute_result"
    }
   ],
   "source": [
    "a = np.array([156436754289756437598670967586])\n",
    "b = 1/a[0]\n",
    "c = b*a[0] # on devrait trouver c = 1\n",
    "c == 1 # mais Python nous répond que ce n'est pas le cas. "
   ]
  },
  {
   "cell_type": "markdown",
   "metadata": {},
   "source": [
    "**attention :** Pour effectuer des opérations sur un tableau `array`, il faut préciser que les éléments sont de type flottant. Observer par exemple le code suivant. "
   ]
  },
  {
   "cell_type": "code",
   "execution_count": 17,
   "metadata": {},
   "outputs": [
    {
     "name": "stdout",
     "output_type": "stream",
     "text": [
      "0\n",
      "0.6666666666666666\n"
     ]
    }
   ],
   "source": [
    "a = np.array([2])\n",
    "b = np.array([2], dtype='float')\n",
    "a[0] /= 3\n",
    "b[0] /= 3\n",
    "print(a[0])\n",
    "print(b[0])"
   ]
  },
  {
   "cell_type": "markdown",
   "metadata": {},
   "source": [
    "# Exercice 2 : Matrice d'adjacence, distances et triangles.\n",
    "\n",
    "Pour rappel, un graphe est un couple $G = (S, A)$ constitué d'un ensemble $S$ (les sommets), non vide et fini, et d'un ensemble $A$ de paires d'éléments de $X$ (les arêtes). \n",
    "Un graphe est orienté si les arêtes ont une direction, c'est-à-dire si les couples d'éléments de $A$ sont des listes ordonnées, c'est-à-dire telle que pour deux sommets $i$ et $j$, $(i,j)$ n'est pas équivalent à $(j,i)$. Ici seuls des graphes non-orientés, c'est-à-dire dont les paires d'éléments de $S$ sont des ensembles non ordonnés ($\\{i,j\\} \\in A$) sont considérés.\n",
    "\n",
    "Par exemple, le graphe complet à $n$ sommets $K_n$ est le graphe de sommets $S = {0,1,2,\\dots,n-1}$ ayant comme arêtes les parties à deux éléments de $S$. En particulier, $K_4 = (S,A)$ où $S=\\{0,1,2,3\\}$ et $A = \\big\\{ \\{0,1\\}, \\{0,2\\}, \\{0,3\\}, \\{1, 2\\}, \\{1, 3\\}, \\{2, 3\\}  \\big\\}$.\n",
    "\n",
    "Dans ce TP, nous allons donc représenter un graphe par un couple de listes. Pour un graphe à $n$ sommets, les sommets seront représentés par des entiers allant de $0$ à $n-1$. \n",
    "\n",
    "Par exemple le graphe $G_1=(\\{0,1,2,3\\}, \\{\\{0,1\\}, \\{1,2\\}, \\{2,3\\}, \\{3, 1\\}\\})$ suivant est donné par"
   ]
  },
  {
   "cell_type": "markdown",
   "metadata": {},
   "source": [
    "![G1](G1.png)"
   ]
  },
  {
   "cell_type": "code",
   "execution_count": 7,
   "metadata": {},
   "outputs": [],
   "source": [
    "G1=([0,1,2,3],\n",
    "          [(0,1),(1,2),(2,3),(3,1)])"
   ]
  },
  {
   "cell_type": "markdown",
   "metadata": {},
   "source": [
    "On définit les trois graphes suivants : "
   ]
  },
  {
   "cell_type": "markdown",
   "metadata": {},
   "source": [
    "![G2](G2.png)"
   ]
  },
  {
   "cell_type": "code",
   "execution_count": 8,
   "metadata": {},
   "outputs": [],
   "source": [
    "G2 = (list(range(18)),\n",
    "      [(0,1),(1,2),(1,3),(2,3),(3,4),(3,10),(3,11),(3,12),(4,8),(4,7),(5,7),(6,7),(7,8),(7,9),(7,13),(7,12),(9,13),(10,11),(11,12),(11,16),(11,17),(12,15),(13,14),(13,15),(14,15),(16,17)\n",
    "                  ])\n",
    "G3 = ([i for i in range(13)],\n",
    "     [(0,2),(1,2),(2,3),(3,4),(4,5),(4,10),(5,6),(5,7),(5,8),(5,9),(10,11),(10,12)])\n",
    "G4 = (list(range(11)), \n",
    "     [(0,2),(1,3),(2,3),(2,4),(2,8),(3,4),(3,5),(4,5),(4,7),(4,8),(5,6),(5,7),(7,8),(7,10),(8,9)])"
   ]
  },
  {
   "cell_type": "markdown",
   "metadata": {},
   "source": [
    "**a)** définir les graphes `G5` et `G6` suivants : "
   ]
  },
  {
   "cell_type": "markdown",
   "metadata": {},
   "source": [
    "![G56](G56.png)"
   ]
  },
  {
   "cell_type": "code",
   "execution_count": null,
   "metadata": {},
   "outputs": [],
   "source": []
  },
  {
   "cell_type": "markdown",
   "metadata": {},
   "source": [
    "A chaque graphe $G=(S,A)$ correspond une unique matrice  $A_G$ <!-- $=(a_{ij})_{1\\le i,j\\le n}$ --> \n",
    "symétrique de taille $n \\times n$ avec $n=|S|$ donc le coefficient situé à la $i$-ème ligne et la $j$-ème colonne est $1$ si le $i$-ème sommet et le $j$-ème sommet sont adjacents, et $0$ sinon. Cette matrice est appelée la matrice d'adjacence de $G$. Par exemple, la matrice d'adjacence de $G_1$ est \n",
    "\\begin{pmatrix}\n",
    "0 & 1 & 0 & 0\\\\\n",
    "1 & 0 & 1 & 1\\\\\n",
    "0 & 1 & 0 & 1\\\\\n",
    "0 & 1 & 1 & 0\\\\\n",
    "\\end{pmatrix}\n",
    "\n",
    "**b)** Définir une fonction `A_complet` qui prend en paramètre un entier $n$ et renvoie la matrice d'adjacence du graphe complet à $n$ sommets. "
   ]
  },
  {
   "cell_type": "code",
   "execution_count": null,
   "metadata": {},
   "outputs": [],
   "source": []
  },
  {
   "cell_type": "markdown",
   "metadata": {},
   "source": [
    "**c)** Définir une fonction `adjacence` qui étant donné un graphe, renvoie sa matrice d'adjacence. "
   ]
  },
  {
   "cell_type": "code",
   "execution_count": null,
   "metadata": {},
   "outputs": [],
   "source": []
  },
  {
   "cell_type": "markdown",
   "metadata": {},
   "source": [
    "**d)** Ecrire les fonctions `nb_sommets` et `nb_aretes`, qui prennent en entrée la matrice d'adjacence d'un graphe et renvoient respectivemement le nombre de sommets et d'arêtes du graphe."
   ]
  },
  {
   "cell_type": "code",
   "execution_count": null,
   "metadata": {},
   "outputs": [],
   "source": []
  },
  {
   "cell_type": "markdown",
   "metadata": {},
   "source": [
    "Dans un graphe $G=(S,A)$, étant donnés deux sommets $u,v\\in S$, une marche de $u$ à $v$ est une suite de sommets $u_0, u_1, \\dots, u_k$ telle que $u=u_0$, $u_k=v$ et pour tout $i=0,\\dots, k-1$ les sommets $u_i$ et $u_{i+1}$ sont adjacents. On appelle $k$ la longueur de la marche. La distance de $u$ à $v$ correspond au plus petit entier $k$ tel qu'il existe une marche de $u$ à $v$ de longueur $k$. \n",
    "\n",
    "On peut démontrer que pour tout entier $k\\ge 0$, la puissance $k$-ème de $A_G$ est symétrique et le coefficient associé au couple de sommets $(u,v)$ est égal au nombre de marches de longueur $k$ de $u$ à $v$. \n",
    "\n",
    "\n",
    "\n",
    "**e)** Ecrire une fonction `connexe` qui prend en entrée la matrice d'adjacence $A$ d'un certain graphe $G$ et qui détermine si $G$ est connexe ou non. \n",
    "\n",
    "indication : remarquer qu'il existe toujours une \"courte\" marche entre deux sommets d'une même composante connexe."
   ]
  },
  {
   "cell_type": "code",
   "execution_count": null,
   "metadata": {},
   "outputs": [],
   "source": []
  },
  {
   "cell_type": "markdown",
   "metadata": {},
   "source": [
    "**f)** Ecrire une fonction `distance(A,u,v)` qui prend en entrée une matrice $A$ d'un certain graphe connexe $G$, deux sommets $u,v$ et qui renvoie la distance entre $u$ et $v$ dans le graphe $G$. "
   ]
  },
  {
   "cell_type": "code",
   "execution_count": null,
   "metadata": {},
   "outputs": [],
   "source": []
  },
  {
   "cell_type": "markdown",
   "metadata": {},
   "source": [
    "Dans un graphe, on appelle triangle une clique avec 3 sommets, c'est-à-dire un ensemble de trois sommets deux à deux adjacents. \n",
    "\n",
    "**f)** En utilisant la fonction `trace`, écrire une fonction `nb_triangles` qui prend en entrée la matrice d'adjacence $A$ d'un certain graphe $G$ et qui détermine le nombre de triangles de $G$. On pourra vérifier son code sur un des exemples de graphes définis plus haut. \n",
    "\n",
    "indication : qu'est-ce qu'une marche de longueur $3$ d'un sommet vers lui-même ?"
   ]
  },
  {
   "cell_type": "code",
   "execution_count": null,
   "metadata": {},
   "outputs": [],
   "source": []
  },
  {
   "cell_type": "markdown",
   "metadata": {},
   "source": [
    "# Exercice 3 : Matrice d'incidence et cycles.\n",
    "\n",
    "Dans cet exercice on s'intéresse à une autre représentation matricielle d'un graphe $G=(S,A)$ par ce qu'on appelle la matrice d'incidence, notée ici $I_G$. Cette matrice est de dimensions $n\\times m$ où $n$ est le nombre de sommets et $m$ est le nombre d'arêtes. Chaque coefficient de cette matrice correspond donc à un certain couple $(u,a)\\in S\\times A$ et vaut $1$ si le sommet $u$ est une des deux extreminités de l'arête $a$, et $0$ sinon. L'ordre des colonnes (c'est-à-dire des arêtes) importe peu et est fixé de manière arbitraire. Par exemple, la matrice d'incidence du graphe $G_1$ est\n",
    "\n",
    "\\begin{pmatrix}\n",
    "1 & 0 & 0 & 0 \\\\\n",
    "1 & 1 & 0 & 1 \\\\\n",
    "0 & 1 & 1 & 0 \\\\\n",
    "0 & 0 & 1 & 1 \\\\\n",
    "\\end{pmatrix}\n",
    "\n",
    "Attention : la matrice d'incidence n'est a priori pas une matrice carrée. \n",
    "\n",
    "**a)** Ecrire une fonction `incidence` qui prend en paramètre un graphe et renvoie sa matrice d'incidence. "
   ]
  },
  {
   "cell_type": "code",
   "execution_count": null,
   "metadata": {},
   "outputs": [],
   "source": []
  },
  {
   "cell_type": "markdown",
   "metadata": {},
   "source": [
    "**b)** Ecrire une fonction `inc_to_graph` qui prend en entrée une matrice d'incidence et renvoie le graphe correspondant. On pourra par exemple représenter les sommets par des entiers de $0$ à $n-1$ où $n$ est le nombre de sommets du graphe. "
   ]
  },
  {
   "cell_type": "code",
   "execution_count": null,
   "metadata": {},
   "outputs": [],
   "source": []
  },
  {
   "cell_type": "markdown",
   "metadata": {},
   "source": [
    "**c)** En utilisant la fonction `rang`, calculer le rang des matrices d'incidence des graphes $(G_i)_{i=1}^6$. Que remarquez-vous ? Que peut-on conjecturer ? Tester votre conjecture sur d'autres exemples de graphes de votre choix.  \n"
   ]
  },
  {
   "cell_type": "code",
   "execution_count": null,
   "metadata": {},
   "outputs": [],
   "source": []
  },
  {
   "cell_type": "markdown",
   "metadata": {},
   "source": [
    "**d)** Pour un graphe orienté, on définit sa matrice d'incidence en mettant pour l'arc $a=(u,v)$ un $1$ pour la case correspondante à $(e,v)$ et un $-1$ pour la case correspondante à $(e,u)$. En produisant des exemples de graphes orientés, essayer de caractériser structurellement le rang d'une matrice d'incidence d'un graphe orienté. "
   ]
  },
  {
   "cell_type": "code",
   "execution_count": null,
   "metadata": {},
   "outputs": [],
   "source": []
  }
 ],
 "metadata": {
  "kernelspec": {
   "display_name": "Python 3 (ipykernel)",
   "language": "python",
   "name": "python3"
  },
  "language_info": {
   "codemirror_mode": {
    "name": "ipython",
    "version": 3
   },
   "file_extension": ".py",
   "mimetype": "text/x-python",
   "name": "python",
   "nbconvert_exporter": "python",
   "pygments_lexer": "ipython3",
   "version": "3.10.12"
  }
 },
 "nbformat": 4,
 "nbformat_minor": 4
}
